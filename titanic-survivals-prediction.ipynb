{
 "cells": [
  {
   "cell_type": "code",
   "execution_count": 1,
   "id": "e7fe71f7",
   "metadata": {
    "execution": {
     "iopub.execute_input": "2023-01-23T08:18:46.374905Z",
     "iopub.status.busy": "2023-01-23T08:18:46.374192Z",
     "iopub.status.idle": "2023-01-23T08:18:47.978865Z",
     "shell.execute_reply": "2023-01-23T08:18:47.977523Z"
    },
    "papermill": {
     "duration": 1.620182,
     "end_time": "2023-01-23T08:18:47.982199",
     "exception": false,
     "start_time": "2023-01-23T08:18:46.362017",
     "status": "completed"
    },
    "tags": []
   },
   "outputs": [
    {
     "name": "stdout",
     "output_type": "stream",
     "text": [
      "/kaggle/input/test-file/tested.csv\n",
      "/kaggle/input/titanicdataset/train.csv\n",
      "/kaggle/input/titanic/kaggle-titanic-master/titanic-solution.ipynb\n",
      "/kaggle/input/titanic/kaggle-titanic-master/images/titanic-disaster.jpg\n",
      "/kaggle/input/titanic/kaggle-titanic-master/input/train.csv\n",
      "/kaggle/input/titanic/kaggle-titanic-master/input/test.csv\n",
      "/kaggle/input/titanic/kaggle-titanic-master/input/gender_submission.csv\n",
      "/kaggle/input/titanic/kaggle-titanic-master/kaggle-titanic-master/titanic-solution.ipynb\n",
      "/kaggle/input/titanic/kaggle-titanic-master/kaggle-titanic-master/images/titanic-disaster.jpg\n",
      "/kaggle/input/titanic/kaggle-titanic-master/kaggle-titanic-master/input/train.csv\n",
      "/kaggle/input/titanic/kaggle-titanic-master/kaggle-titanic-master/input/test.csv\n",
      "/kaggle/input/titanic/kaggle-titanic-master/kaggle-titanic-master/input/gender_submission.csv\n"
     ]
    }
   ],
   "source": [
    "# This Python 3 environment comes with many helpful analytics libraries installed\n",
    "# It is defined by the kaggle/python Docker image: https://github.com/kaggle/docker-python\n",
    "# For example, here's several helpful packages to load\n",
    "\n",
    "import numpy as np # linear algebra\n",
    "import pandas as pd # data processing, CSV file I/O (e.g. pd.read_csv)\n",
    "import seaborn as sns\n",
    "import matplotlib.pyplot as plt\n",
    "from sklearn.model_selection import train_test_split\n",
    "from sklearn.linear_model import LogisticRegression\n",
    "from sklearn.metrics import accuracy_score\n",
    "# Input data files are available in the read-only \"../input/\" directory\n",
    "# For example, running this (by clicking run or pressing Shift+Enter) will list all files under the input directory\n",
    "\n",
    "import os\n",
    "for dirname, _, filenames in os.walk('/kaggle/input'):\n",
    "    for filename in filenames:\n",
    "        print(os.path.join(dirname, filename))\n",
    "\n",
    "# You can write up to 20GB to the current directory (/kaggle/working/) that gets preserved as output when you create a version using \"Save & Run All\" \n",
    "# You can also write temporary files to /kaggle/temp/, but they won't be saved outside of the current session"
   ]
  },
  {
   "cell_type": "code",
   "execution_count": 2,
   "id": "a19cd941",
   "metadata": {
    "execution": {
     "iopub.execute_input": "2023-01-23T08:18:48.003243Z",
     "iopub.status.busy": "2023-01-23T08:18:48.002460Z",
     "iopub.status.idle": "2023-01-23T08:18:48.049246Z",
     "shell.execute_reply": "2023-01-23T08:18:48.047884Z"
    },
    "papermill": {
     "duration": 0.059839,
     "end_time": "2023-01-23T08:18:48.051880",
     "exception": false,
     "start_time": "2023-01-23T08:18:47.992041",
     "status": "completed"
    },
    "tags": []
   },
   "outputs": [
    {
     "data": {
      "text/html": [
       "<div>\n",
       "<style scoped>\n",
       "    .dataframe tbody tr th:only-of-type {\n",
       "        vertical-align: middle;\n",
       "    }\n",
       "\n",
       "    .dataframe tbody tr th {\n",
       "        vertical-align: top;\n",
       "    }\n",
       "\n",
       "    .dataframe thead th {\n",
       "        text-align: right;\n",
       "    }\n",
       "</style>\n",
       "<table border=\"1\" class=\"dataframe\">\n",
       "  <thead>\n",
       "    <tr style=\"text-align: right;\">\n",
       "      <th></th>\n",
       "      <th>PassengerId</th>\n",
       "      <th>Survived</th>\n",
       "      <th>Pclass</th>\n",
       "      <th>Name</th>\n",
       "      <th>Sex</th>\n",
       "      <th>Age</th>\n",
       "      <th>SibSp</th>\n",
       "      <th>Parch</th>\n",
       "      <th>Ticket</th>\n",
       "      <th>Fare</th>\n",
       "      <th>Cabin</th>\n",
       "      <th>Embarked</th>\n",
       "    </tr>\n",
       "  </thead>\n",
       "  <tbody>\n",
       "    <tr>\n",
       "      <th>0</th>\n",
       "      <td>1</td>\n",
       "      <td>0</td>\n",
       "      <td>3</td>\n",
       "      <td>Braund, Mr. Owen Harris</td>\n",
       "      <td>male</td>\n",
       "      <td>22.0</td>\n",
       "      <td>1</td>\n",
       "      <td>0</td>\n",
       "      <td>A/5 21171</td>\n",
       "      <td>7.2500</td>\n",
       "      <td>NaN</td>\n",
       "      <td>S</td>\n",
       "    </tr>\n",
       "    <tr>\n",
       "      <th>1</th>\n",
       "      <td>2</td>\n",
       "      <td>1</td>\n",
       "      <td>1</td>\n",
       "      <td>Cumings, Mrs. John Bradley (Florence Briggs Th...</td>\n",
       "      <td>female</td>\n",
       "      <td>38.0</td>\n",
       "      <td>1</td>\n",
       "      <td>0</td>\n",
       "      <td>PC 17599</td>\n",
       "      <td>71.2833</td>\n",
       "      <td>C85</td>\n",
       "      <td>C</td>\n",
       "    </tr>\n",
       "    <tr>\n",
       "      <th>2</th>\n",
       "      <td>3</td>\n",
       "      <td>1</td>\n",
       "      <td>3</td>\n",
       "      <td>Heikkinen, Miss. Laina</td>\n",
       "      <td>female</td>\n",
       "      <td>26.0</td>\n",
       "      <td>0</td>\n",
       "      <td>0</td>\n",
       "      <td>STON/O2. 3101282</td>\n",
       "      <td>7.9250</td>\n",
       "      <td>NaN</td>\n",
       "      <td>S</td>\n",
       "    </tr>\n",
       "    <tr>\n",
       "      <th>3</th>\n",
       "      <td>4</td>\n",
       "      <td>1</td>\n",
       "      <td>1</td>\n",
       "      <td>Futrelle, Mrs. Jacques Heath (Lily May Peel)</td>\n",
       "      <td>female</td>\n",
       "      <td>35.0</td>\n",
       "      <td>1</td>\n",
       "      <td>0</td>\n",
       "      <td>113803</td>\n",
       "      <td>53.1000</td>\n",
       "      <td>C123</td>\n",
       "      <td>S</td>\n",
       "    </tr>\n",
       "    <tr>\n",
       "      <th>4</th>\n",
       "      <td>5</td>\n",
       "      <td>0</td>\n",
       "      <td>3</td>\n",
       "      <td>Allen, Mr. William Henry</td>\n",
       "      <td>male</td>\n",
       "      <td>35.0</td>\n",
       "      <td>0</td>\n",
       "      <td>0</td>\n",
       "      <td>373450</td>\n",
       "      <td>8.0500</td>\n",
       "      <td>NaN</td>\n",
       "      <td>S</td>\n",
       "    </tr>\n",
       "  </tbody>\n",
       "</table>\n",
       "</div>"
      ],
      "text/plain": [
       "   PassengerId  Survived  Pclass  \\\n",
       "0            1         0       3   \n",
       "1            2         1       1   \n",
       "2            3         1       3   \n",
       "3            4         1       1   \n",
       "4            5         0       3   \n",
       "\n",
       "                                                Name     Sex   Age  SibSp  \\\n",
       "0                            Braund, Mr. Owen Harris    male  22.0      1   \n",
       "1  Cumings, Mrs. John Bradley (Florence Briggs Th...  female  38.0      1   \n",
       "2                             Heikkinen, Miss. Laina  female  26.0      0   \n",
       "3       Futrelle, Mrs. Jacques Heath (Lily May Peel)  female  35.0      1   \n",
       "4                           Allen, Mr. William Henry    male  35.0      0   \n",
       "\n",
       "   Parch            Ticket     Fare Cabin Embarked  \n",
       "0      0         A/5 21171   7.2500   NaN        S  \n",
       "1      0          PC 17599  71.2833   C85        C  \n",
       "2      0  STON/O2. 3101282   7.9250   NaN        S  \n",
       "3      0            113803  53.1000  C123        S  \n",
       "4      0            373450   8.0500   NaN        S  "
      ]
     },
     "execution_count": 2,
     "metadata": {},
     "output_type": "execute_result"
    }
   ],
   "source": [
    "titanic= pd.read_csv(\"../input/titanicdataset/train.csv\")\n",
    "titanic.head()"
   ]
  },
  {
   "cell_type": "code",
   "execution_count": 3,
   "id": "03946f9c",
   "metadata": {
    "execution": {
     "iopub.execute_input": "2023-01-23T08:18:48.072483Z",
     "iopub.status.busy": "2023-01-23T08:18:48.072042Z",
     "iopub.status.idle": "2023-01-23T08:18:48.101966Z",
     "shell.execute_reply": "2023-01-23T08:18:48.100471Z"
    },
    "papermill": {
     "duration": 0.043635,
     "end_time": "2023-01-23T08:18:48.105186",
     "exception": false,
     "start_time": "2023-01-23T08:18:48.061551",
     "status": "completed"
    },
    "tags": []
   },
   "outputs": [
    {
     "name": "stdout",
     "output_type": "stream",
     "text": [
      "<class 'pandas.core.frame.DataFrame'>\n",
      "RangeIndex: 891 entries, 0 to 890\n",
      "Data columns (total 12 columns):\n",
      " #   Column       Non-Null Count  Dtype  \n",
      "---  ------       --------------  -----  \n",
      " 0   PassengerId  891 non-null    int64  \n",
      " 1   Survived     891 non-null    int64  \n",
      " 2   Pclass       891 non-null    int64  \n",
      " 3   Name         891 non-null    object \n",
      " 4   Sex          891 non-null    object \n",
      " 5   Age          714 non-null    float64\n",
      " 6   SibSp        891 non-null    int64  \n",
      " 7   Parch        891 non-null    int64  \n",
      " 8   Ticket       891 non-null    object \n",
      " 9   Fare         891 non-null    float64\n",
      " 10  Cabin        204 non-null    object \n",
      " 11  Embarked     889 non-null    object \n",
      "dtypes: float64(2), int64(5), object(5)\n",
      "memory usage: 83.7+ KB\n"
     ]
    }
   ],
   "source": [
    "titanic.info()"
   ]
  },
  {
   "cell_type": "code",
   "execution_count": 4,
   "id": "3e9a2c4d",
   "metadata": {
    "execution": {
     "iopub.execute_input": "2023-01-23T08:18:48.126482Z",
     "iopub.status.busy": "2023-01-23T08:18:48.125585Z",
     "iopub.status.idle": "2023-01-23T08:18:48.133161Z",
     "shell.execute_reply": "2023-01-23T08:18:48.131951Z"
    },
    "papermill": {
     "duration": 0.020854,
     "end_time": "2023-01-23T08:18:48.135663",
     "exception": false,
     "start_time": "2023-01-23T08:18:48.114809",
     "status": "completed"
    },
    "tags": []
   },
   "outputs": [
    {
     "data": {
      "text/plain": [
       "(891, 12)"
      ]
     },
     "execution_count": 4,
     "metadata": {},
     "output_type": "execute_result"
    }
   ],
   "source": [
    "titanic.shape"
   ]
  },
  {
   "cell_type": "markdown",
   "id": "84f15171",
   "metadata": {
    "papermill": {
     "duration": 0.009157,
     "end_time": "2023-01-23T08:18:48.154547",
     "exception": false,
     "start_time": "2023-01-23T08:18:48.145390",
     "status": "completed"
    },
    "tags": []
   },
   "source": [
    "# Missing Data and Duplication"
   ]
  },
  {
   "cell_type": "code",
   "execution_count": 5,
   "id": "3075da3e",
   "metadata": {
    "execution": {
     "iopub.execute_input": "2023-01-23T08:18:48.175721Z",
     "iopub.status.busy": "2023-01-23T08:18:48.175282Z",
     "iopub.status.idle": "2023-01-23T08:18:48.185579Z",
     "shell.execute_reply": "2023-01-23T08:18:48.184343Z"
    },
    "papermill": {
     "duration": 0.024501,
     "end_time": "2023-01-23T08:18:48.188578",
     "exception": false,
     "start_time": "2023-01-23T08:18:48.164077",
     "status": "completed"
    },
    "tags": []
   },
   "outputs": [
    {
     "name": "stdout",
     "output_type": "stream",
     "text": [
      "PassengerId     0.00\n",
      "Survived        0.00\n",
      "Pclass          0.00\n",
      "Name            0.00\n",
      "Sex             0.00\n",
      "Age            19.87\n",
      "SibSp           0.00\n",
      "Parch           0.00\n",
      "Ticket          0.00\n",
      "Fare            0.00\n",
      "Cabin          77.10\n",
      "Embarked        0.22\n",
      "dtype: float64\n"
     ]
    }
   ],
   "source": [
    "print(round((titanic.isna().sum()/len(titanic.index))*100, 2))"
   ]
  },
  {
   "cell_type": "code",
   "execution_count": 6,
   "id": "b2d2db44",
   "metadata": {
    "execution": {
     "iopub.execute_input": "2023-01-23T08:18:48.209919Z",
     "iopub.status.busy": "2023-01-23T08:18:48.209516Z",
     "iopub.status.idle": "2023-01-23T08:18:48.228647Z",
     "shell.execute_reply": "2023-01-23T08:18:48.227661Z"
    },
    "papermill": {
     "duration": 0.032495,
     "end_time": "2023-01-23T08:18:48.230897",
     "exception": false,
     "start_time": "2023-01-23T08:18:48.198402",
     "status": "completed"
    },
    "tags": []
   },
   "outputs": [
    {
     "data": {
      "text/html": [
       "<div>\n",
       "<style scoped>\n",
       "    .dataframe tbody tr th:only-of-type {\n",
       "        vertical-align: middle;\n",
       "    }\n",
       "\n",
       "    .dataframe tbody tr th {\n",
       "        vertical-align: top;\n",
       "    }\n",
       "\n",
       "    .dataframe thead th {\n",
       "        text-align: right;\n",
       "    }\n",
       "</style>\n",
       "<table border=\"1\" class=\"dataframe\">\n",
       "  <thead>\n",
       "    <tr style=\"text-align: right;\">\n",
       "      <th></th>\n",
       "      <th>PassengerId</th>\n",
       "      <th>Survived</th>\n",
       "      <th>Pclass</th>\n",
       "      <th>Name</th>\n",
       "      <th>Sex</th>\n",
       "      <th>Age</th>\n",
       "      <th>SibSp</th>\n",
       "      <th>Parch</th>\n",
       "      <th>Ticket</th>\n",
       "      <th>Fare</th>\n",
       "      <th>Embarked</th>\n",
       "    </tr>\n",
       "  </thead>\n",
       "  <tbody>\n",
       "    <tr>\n",
       "      <th>0</th>\n",
       "      <td>1</td>\n",
       "      <td>0</td>\n",
       "      <td>3</td>\n",
       "      <td>Braund, Mr. Owen Harris</td>\n",
       "      <td>male</td>\n",
       "      <td>22.0</td>\n",
       "      <td>1</td>\n",
       "      <td>0</td>\n",
       "      <td>A/5 21171</td>\n",
       "      <td>7.2500</td>\n",
       "      <td>S</td>\n",
       "    </tr>\n",
       "    <tr>\n",
       "      <th>1</th>\n",
       "      <td>2</td>\n",
       "      <td>1</td>\n",
       "      <td>1</td>\n",
       "      <td>Cumings, Mrs. John Bradley (Florence Briggs Th...</td>\n",
       "      <td>female</td>\n",
       "      <td>38.0</td>\n",
       "      <td>1</td>\n",
       "      <td>0</td>\n",
       "      <td>PC 17599</td>\n",
       "      <td>71.2833</td>\n",
       "      <td>C</td>\n",
       "    </tr>\n",
       "    <tr>\n",
       "      <th>2</th>\n",
       "      <td>3</td>\n",
       "      <td>1</td>\n",
       "      <td>3</td>\n",
       "      <td>Heikkinen, Miss. Laina</td>\n",
       "      <td>female</td>\n",
       "      <td>26.0</td>\n",
       "      <td>0</td>\n",
       "      <td>0</td>\n",
       "      <td>STON/O2. 3101282</td>\n",
       "      <td>7.9250</td>\n",
       "      <td>S</td>\n",
       "    </tr>\n",
       "    <tr>\n",
       "      <th>3</th>\n",
       "      <td>4</td>\n",
       "      <td>1</td>\n",
       "      <td>1</td>\n",
       "      <td>Futrelle, Mrs. Jacques Heath (Lily May Peel)</td>\n",
       "      <td>female</td>\n",
       "      <td>35.0</td>\n",
       "      <td>1</td>\n",
       "      <td>0</td>\n",
       "      <td>113803</td>\n",
       "      <td>53.1000</td>\n",
       "      <td>S</td>\n",
       "    </tr>\n",
       "    <tr>\n",
       "      <th>4</th>\n",
       "      <td>5</td>\n",
       "      <td>0</td>\n",
       "      <td>3</td>\n",
       "      <td>Allen, Mr. William Henry</td>\n",
       "      <td>male</td>\n",
       "      <td>35.0</td>\n",
       "      <td>0</td>\n",
       "      <td>0</td>\n",
       "      <td>373450</td>\n",
       "      <td>8.0500</td>\n",
       "      <td>S</td>\n",
       "    </tr>\n",
       "  </tbody>\n",
       "</table>\n",
       "</div>"
      ],
      "text/plain": [
       "   PassengerId  Survived  Pclass  \\\n",
       "0            1         0       3   \n",
       "1            2         1       1   \n",
       "2            3         1       3   \n",
       "3            4         1       1   \n",
       "4            5         0       3   \n",
       "\n",
       "                                                Name     Sex   Age  SibSp  \\\n",
       "0                            Braund, Mr. Owen Harris    male  22.0      1   \n",
       "1  Cumings, Mrs. John Bradley (Florence Briggs Th...  female  38.0      1   \n",
       "2                             Heikkinen, Miss. Laina  female  26.0      0   \n",
       "3       Futrelle, Mrs. Jacques Heath (Lily May Peel)  female  35.0      1   \n",
       "4                           Allen, Mr. William Henry    male  35.0      0   \n",
       "\n",
       "   Parch            Ticket     Fare Embarked  \n",
       "0      0         A/5 21171   7.2500        S  \n",
       "1      0          PC 17599  71.2833        C  \n",
       "2      0  STON/O2. 3101282   7.9250        S  \n",
       "3      0            113803  53.1000        S  \n",
       "4      0            373450   8.0500        S  "
      ]
     },
     "execution_count": 6,
     "metadata": {},
     "output_type": "execute_result"
    }
   ],
   "source": [
    "titanic.drop(['Cabin'], axis=1, inplace=True)\n",
    "titanic.head()"
   ]
  },
  {
   "cell_type": "code",
   "execution_count": 7,
   "id": "bea8dea7",
   "metadata": {
    "execution": {
     "iopub.execute_input": "2023-01-23T08:18:48.254206Z",
     "iopub.status.busy": "2023-01-23T08:18:48.253054Z",
     "iopub.status.idle": "2023-01-23T08:18:48.262219Z",
     "shell.execute_reply": "2023-01-23T08:18:48.260956Z"
    },
    "papermill": {
     "duration": 0.022686,
     "end_time": "2023-01-23T08:18:48.264754",
     "exception": false,
     "start_time": "2023-01-23T08:18:48.242068",
     "status": "completed"
    },
    "tags": []
   },
   "outputs": [],
   "source": [
    "age= titanic['Age'].mean()\n",
    "fare= titanic['Fare'].mean()\n",
    "titanic = titanic.fillna({'Age' : age , 'Fare' : fare})\n",
    "titanic['Age'] = titanic['Age'].astype(int)"
   ]
  },
  {
   "cell_type": "code",
   "execution_count": 8,
   "id": "d94b6216",
   "metadata": {
    "execution": {
     "iopub.execute_input": "2023-01-23T08:18:48.286981Z",
     "iopub.status.busy": "2023-01-23T08:18:48.286513Z",
     "iopub.status.idle": "2023-01-23T08:18:48.295381Z",
     "shell.execute_reply": "2023-01-23T08:18:48.294082Z"
    },
    "papermill": {
     "duration": 0.022874,
     "end_time": "2023-01-23T08:18:48.297770",
     "exception": false,
     "start_time": "2023-01-23T08:18:48.274896",
     "status": "completed"
    },
    "tags": []
   },
   "outputs": [],
   "source": [
    " #titnic = titanic['Age'].astype('int64',axis=1)\n",
    "titanic=titanic.astype({'Age':'int64','Fare':'int64'})"
   ]
  },
  {
   "cell_type": "code",
   "execution_count": 9,
   "id": "688ba482",
   "metadata": {
    "execution": {
     "iopub.execute_input": "2023-01-23T08:18:48.319335Z",
     "iopub.status.busy": "2023-01-23T08:18:48.318900Z",
     "iopub.status.idle": "2023-01-23T08:18:48.329952Z",
     "shell.execute_reply": "2023-01-23T08:18:48.329087Z"
    },
    "papermill": {
     "duration": 0.024325,
     "end_time": "2023-01-23T08:18:48.332080",
     "exception": false,
     "start_time": "2023-01-23T08:18:48.307755",
     "status": "completed"
    },
    "tags": []
   },
   "outputs": [
    {
     "data": {
      "text/plain": [
       "0"
      ]
     },
     "execution_count": 9,
     "metadata": {},
     "output_type": "execute_result"
    }
   ],
   "source": [
    "titanic.duplicated().sum()"
   ]
  },
  {
   "cell_type": "markdown",
   "id": "262fcee1",
   "metadata": {
    "papermill": {
     "duration": 0.00949,
     "end_time": "2023-01-23T08:18:48.351719",
     "exception": false,
     "start_time": "2023-01-23T08:18:48.342229",
     "status": "completed"
    },
    "tags": []
   },
   "source": [
    "# Outliers"
   ]
  },
  {
   "cell_type": "code",
   "execution_count": 10,
   "id": "cecdf7c4",
   "metadata": {
    "execution": {
     "iopub.execute_input": "2023-01-23T08:18:48.373350Z",
     "iopub.status.busy": "2023-01-23T08:18:48.372924Z",
     "iopub.status.idle": "2023-01-23T08:18:48.628460Z",
     "shell.execute_reply": "2023-01-23T08:18:48.627068Z"
    },
    "papermill": {
     "duration": 0.26962,
     "end_time": "2023-01-23T08:18:48.631175",
     "exception": false,
     "start_time": "2023-01-23T08:18:48.361555",
     "status": "completed"
    },
    "tags": []
   },
   "outputs": [
    {
     "data": {
      "image/png": "[encoded data removed]",
      "text/plain": [
       "<Figure size 504x360 with 2 Axes>"
      ]
     },
     "metadata": {
      "needs_background": "light"
     },
     "output_type": "display_data"
    }
   ],
   "source": [
    "\n",
    "fig, ( ax1, ax2) = plt.subplots(nrows=1, ncols=2, sharey=True, figsize=(7,5))\n",
    "titanic.boxplot('Age', ax=ax1)\n",
    "titanic.boxplot('Fare', ax=ax2)\n",
    "plt.show()\n"
   ]
  },
  {
   "cell_type": "code",
   "execution_count": 11,
   "id": "ea7a363d",
   "metadata": {
    "execution": {
     "iopub.execute_input": "2023-01-23T08:18:48.653853Z",
     "iopub.status.busy": "2023-01-23T08:18:48.653373Z",
     "iopub.status.idle": "2023-01-23T08:18:48.661373Z",
     "shell.execute_reply": "2023-01-23T08:18:48.659988Z"
    },
    "papermill": {
     "duration": 0.022603,
     "end_time": "2023-01-23T08:18:48.664330",
     "exception": false,
     "start_time": "2023-01-23T08:18:48.641727",
     "status": "completed"
    },
    "tags": []
   },
   "outputs": [],
   "source": [
    "#from above outliers exist in last two numeric columns : {Age, Fare}\n",
    "def outliers(df,ft):\n",
    "    Q1 = df[ft].quantile(0.25)\n",
    "    Q3 = df[ft].quantile(0.75)\n",
    "    IQR = Q3 - Q1\n",
    "    lowerBound = Q1 - 1.5 * IQR\n",
    "    upperBound = Q3 + 1.5 * IQR\n",
    "    lst = df.index[(df[ft] < lowerBound)|(df[ft] > upperBound)]\n",
    "    return lst"
   ]
  },
  {
   "cell_type": "code",
   "execution_count": 12,
   "id": "6a0059d6",
   "metadata": {
    "execution": {
     "iopub.execute_input": "2023-01-23T08:18:48.687316Z",
     "iopub.status.busy": "2023-01-23T08:18:48.686897Z",
     "iopub.status.idle": "2023-01-23T08:18:48.701003Z",
     "shell.execute_reply": "2023-01-23T08:18:48.699909Z"
    },
    "papermill": {
     "duration": 0.028381,
     "end_time": "2023-01-23T08:18:48.703578",
     "exception": false,
     "start_time": "2023-01-23T08:18:48.675197",
     "status": "completed"
    },
    "tags": []
   },
   "outputs": [],
   "source": [
    "\n",
    "lst=[]\n",
    "for ft1 in ['Age']:\n",
    "    lst.extend(outliers(titanic,ft1))\n",
    "for ft2 in ['Fare']:\n",
    "    lst.extend(outliers(titanic,ft2))\n",
    "titanic = titanic.drop(lst)\n"
   ]
  },
  {
   "cell_type": "markdown",
   "id": "54234b0d",
   "metadata": {
    "papermill": {
     "duration": 0.009757,
     "end_time": "2023-01-23T08:18:48.723983",
     "exception": false,
     "start_time": "2023-01-23T08:18:48.714226",
     "status": "completed"
    },
    "tags": []
   },
   "source": [
    "# Visualization of survivals"
   ]
  },
  {
   "cell_type": "markdown",
   "id": "56afde13",
   "metadata": {
    "papermill": {
     "duration": 0.010137,
     "end_time": "2023-01-23T08:18:48.744423",
     "exception": false,
     "start_time": "2023-01-23T08:18:48.734286",
     "status": "completed"
    },
    "tags": []
   },
   "source": [
    "*Survivals according to Age nd Gender*"
   ]
  },
  {
   "cell_type": "code",
   "execution_count": 13,
   "id": "2b4f8cbb",
   "metadata": {
    "execution": {
     "iopub.execute_input": "2023-01-23T08:18:48.767416Z",
     "iopub.status.busy": "2023-01-23T08:18:48.766962Z",
     "iopub.status.idle": "2023-01-23T08:18:48.786955Z",
     "shell.execute_reply": "2023-01-23T08:18:48.785630Z"
    },
    "papermill": {
     "duration": 0.034103,
     "end_time": "2023-01-23T08:18:48.789519",
     "exception": false,
     "start_time": "2023-01-23T08:18:48.755416",
     "status": "completed"
    },
    "tags": []
   },
   "outputs": [
    {
     "data": {
      "text/html": [
       "<div>\n",
       "<style scoped>\n",
       "    .dataframe tbody tr th:only-of-type {\n",
       "        vertical-align: middle;\n",
       "    }\n",
       "\n",
       "    .dataframe tbody tr th {\n",
       "        vertical-align: top;\n",
       "    }\n",
       "\n",
       "    .dataframe thead th {\n",
       "        text-align: right;\n",
       "    }\n",
       "</style>\n",
       "<table border=\"1\" class=\"dataframe\">\n",
       "  <thead>\n",
       "    <tr style=\"text-align: right;\">\n",
       "      <th></th>\n",
       "      <th>Sex</th>\n",
       "      <th>Survived</th>\n",
       "    </tr>\n",
       "  </thead>\n",
       "  <tbody>\n",
       "    <tr>\n",
       "      <th>0</th>\n",
       "      <td>female</td>\n",
       "      <td>0.689655</td>\n",
       "    </tr>\n",
       "    <tr>\n",
       "      <th>1</th>\n",
       "      <td>male</td>\n",
       "      <td>0.171079</td>\n",
       "    </tr>\n",
       "  </tbody>\n",
       "</table>\n",
       "</div>"
      ],
      "text/plain": [
       "      Sex  Survived\n",
       "0  female  0.689655\n",
       "1    male  0.171079"
      ]
     },
     "execution_count": 13,
     "metadata": {},
     "output_type": "execute_result"
    }
   ],
   "source": [
    "titanic[['Sex','Survived']].groupby(['Sex'],as_index=False).mean().sort_values(by='Survived',ascending=0)"
   ]
  },
  {
   "cell_type": "code",
   "execution_count": 14,
   "id": "f12d47bc",
   "metadata": {
    "execution": {
     "iopub.execute_input": "2023-01-23T08:18:48.812800Z",
     "iopub.status.busy": "2023-01-23T08:18:48.811959Z",
     "iopub.status.idle": "2023-01-23T08:18:49.552273Z",
     "shell.execute_reply": "2023-01-23T08:18:49.550925Z"
    },
    "papermill": {
     "duration": 0.754663,
     "end_time": "2023-01-23T08:18:49.554915",
     "exception": false,
     "start_time": "2023-01-23T08:18:48.800252",
     "status": "completed"
    },
    "tags": []
   },
   "outputs": [
    {
     "data": {
      "image/png": "[encoded data removed]",
      "text/plain": [
       "<Figure size 432x288 with 1 Axes>"
      ]
     },
     "metadata": {
      "needs_background": "light"
     },
     "output_type": "display_data"
    }
   ],
   "source": [
    "survivals = titanic.loc[titanic.Survived == 1]\n",
    "sns.countplot(data = survivals, x = 'Age', hue = 'Sex')\n",
    "plt.xticks(rotation=90)\n",
    "sns.set(rc={'figure.figsize':(18,8.27)})\n",
    "plt.show()"
   ]
  },
  {
   "cell_type": "markdown",
   "id": "e9bca230",
   "metadata": {
    "papermill": {
     "duration": 0.01148,
     "end_time": "2023-01-23T08:18:49.577464",
     "exception": false,
     "start_time": "2023-01-23T08:18:49.565984",
     "status": "completed"
    },
    "tags": []
   },
   "source": [
    "*according to class*"
   ]
  },
  {
   "cell_type": "code",
   "execution_count": 15,
   "id": "e5e52914",
   "metadata": {
    "execution": {
     "iopub.execute_input": "2023-01-23T08:18:49.601927Z",
     "iopub.status.busy": "2023-01-23T08:18:49.601505Z",
     "iopub.status.idle": "2023-01-23T08:18:49.929198Z",
     "shell.execute_reply": "2023-01-23T08:18:49.927747Z"
    },
    "papermill": {
     "duration": 0.342489,
     "end_time": "2023-01-23T08:18:49.931722",
     "exception": false,
     "start_time": "2023-01-23T08:18:49.589233",
     "status": "completed"
    },
    "tags": []
   },
   "outputs": [
    {
     "data": {
      "text/plain": [
       "Text(0.5, 1.0, 'survivals according to their class')"
      ]
     },
     "execution_count": 15,
     "metadata": {},
     "output_type": "execute_result"
    },
    {
     "data": {
      "image/png": "[encoded data removed]",
      "text/plain": [
       "<Figure size 1296x595.44 with 1 Axes>"
      ]
     },
     "metadata": {},
     "output_type": "display_data"
    }
   ],
   "source": [
    "sns.countplot(data = titanic, x = 'Pclass', hue = 'Survived')\n",
    "sns.set(rc={'figure.figsize':(7,7)})\n",
    "plt.title('survivals according to their class')"
   ]
  },
  {
   "cell_type": "markdown",
   "id": "10eb7322",
   "metadata": {
    "papermill": {
     "duration": 0.011063,
     "end_time": "2023-01-23T08:18:49.954046",
     "exception": false,
     "start_time": "2023-01-23T08:18:49.942983",
     "status": "completed"
    },
    "tags": []
   },
   "source": [
    "*accroding to fare and the class*"
   ]
  },
  {
   "cell_type": "code",
   "execution_count": 16,
   "id": "b184167a",
   "metadata": {
    "execution": {
     "iopub.execute_input": "2023-01-23T08:18:49.978468Z",
     "iopub.status.busy": "2023-01-23T08:18:49.977722Z",
     "iopub.status.idle": "2023-01-23T08:18:49.993870Z",
     "shell.execute_reply": "2023-01-23T08:18:49.992533Z"
    },
    "papermill": {
     "duration": 0.031144,
     "end_time": "2023-01-23T08:18:49.996408",
     "exception": false,
     "start_time": "2023-01-23T08:18:49.965264",
     "status": "completed"
    },
    "tags": []
   },
   "outputs": [
    {
     "data": {
      "text/html": [
       "<div>\n",
       "<style scoped>\n",
       "    .dataframe tbody tr th:only-of-type {\n",
       "        vertical-align: middle;\n",
       "    }\n",
       "\n",
       "    .dataframe tbody tr th {\n",
       "        vertical-align: top;\n",
       "    }\n",
       "\n",
       "    .dataframe thead th {\n",
       "        text-align: right;\n",
       "    }\n",
       "</style>\n",
       "<table border=\"1\" class=\"dataframe\">\n",
       "  <thead>\n",
       "    <tr style=\"text-align: right;\">\n",
       "      <th></th>\n",
       "      <th>Survived</th>\n",
       "      <th>Fare</th>\n",
       "    </tr>\n",
       "    <tr>\n",
       "      <th>Pclass</th>\n",
       "      <th></th>\n",
       "      <th></th>\n",
       "    </tr>\n",
       "  </thead>\n",
       "  <tbody>\n",
       "    <tr>\n",
       "      <th>1</th>\n",
       "      <td>55</td>\n",
       "      <td>3692</td>\n",
       "    </tr>\n",
       "    <tr>\n",
       "      <th>2</th>\n",
       "      <td>78</td>\n",
       "      <td>3090</td>\n",
       "    </tr>\n",
       "    <tr>\n",
       "      <th>3</th>\n",
       "      <td>111</td>\n",
       "      <td>5588</td>\n",
       "    </tr>\n",
       "  </tbody>\n",
       "</table>\n",
       "</div>"
      ],
      "text/plain": [
       "        Survived  Fare\n",
       "Pclass                \n",
       "1             55  3692\n",
       "2             78  3090\n",
       "3            111  5588"
      ]
     },
     "execution_count": 16,
     "metadata": {},
     "output_type": "execute_result"
    }
   ],
   "source": [
    "titanic.groupby('Pclass')[['Survived','Fare']].sum()"
   ]
  },
  {
   "cell_type": "code",
   "execution_count": 17,
   "id": "30513f9f",
   "metadata": {
    "execution": {
     "iopub.execute_input": "2023-01-23T08:18:50.020716Z",
     "iopub.status.busy": "2023-01-23T08:18:50.020264Z",
     "iopub.status.idle": "2023-01-23T08:18:50.035766Z",
     "shell.execute_reply": "2023-01-23T08:18:50.034590Z"
    },
    "papermill": {
     "duration": 0.030157,
     "end_time": "2023-01-23T08:18:50.038136",
     "exception": false,
     "start_time": "2023-01-23T08:18:50.007979",
     "status": "completed"
    },
    "tags": []
   },
   "outputs": [
    {
     "data": {
      "text/html": [
       "<div>\n",
       "<style scoped>\n",
       "    .dataframe tbody tr th:only-of-type {\n",
       "        vertical-align: middle;\n",
       "    }\n",
       "\n",
       "    .dataframe tbody tr th {\n",
       "        vertical-align: top;\n",
       "    }\n",
       "\n",
       "    .dataframe thead th {\n",
       "        text-align: right;\n",
       "    }\n",
       "</style>\n",
       "<table border=\"1\" class=\"dataframe\">\n",
       "  <thead>\n",
       "    <tr style=\"text-align: right;\">\n",
       "      <th></th>\n",
       "      <th>Sex</th>\n",
       "      <th>Survived</th>\n",
       "    </tr>\n",
       "  </thead>\n",
       "  <tbody>\n",
       "    <tr>\n",
       "      <th>0</th>\n",
       "      <td>female</td>\n",
       "      <td>0.689655</td>\n",
       "    </tr>\n",
       "    <tr>\n",
       "      <th>1</th>\n",
       "      <td>male</td>\n",
       "      <td>0.171079</td>\n",
       "    </tr>\n",
       "  </tbody>\n",
       "</table>\n",
       "</div>"
      ],
      "text/plain": [
       "      Sex  Survived\n",
       "0  female  0.689655\n",
       "1    male  0.171079"
      ]
     },
     "execution_count": 17,
     "metadata": {},
     "output_type": "execute_result"
    }
   ],
   "source": [
    "titanic.groupby('Sex', as_index=False)[['Survived']].mean()"
   ]
  },
  {
   "cell_type": "code",
   "execution_count": 18,
   "id": "4a02f189",
   "metadata": {
    "execution": {
     "iopub.execute_input": "2023-01-23T08:18:50.063438Z",
     "iopub.status.busy": "2023-01-23T08:18:50.063018Z",
     "iopub.status.idle": "2023-01-23T08:18:50.072815Z",
     "shell.execute_reply": "2023-01-23T08:18:50.071872Z"
    },
    "papermill": {
     "duration": 0.025659,
     "end_time": "2023-01-23T08:18:50.075232",
     "exception": false,
     "start_time": "2023-01-23T08:18:50.049573",
     "status": "completed"
    },
    "tags": []
   },
   "outputs": [],
   "source": [
    "t1=titanic.groupby(['Pclass','Sex'], as_index=False)[['Survived']].sum()\n"
   ]
  },
  {
   "cell_type": "code",
   "execution_count": 19,
   "id": "57791111",
   "metadata": {
    "execution": {
     "iopub.execute_input": "2023-01-23T08:18:50.099506Z",
     "iopub.status.busy": "2023-01-23T08:18:50.098747Z",
     "iopub.status.idle": "2023-01-23T08:18:50.821921Z",
     "shell.execute_reply": "2023-01-23T08:18:50.820505Z"
    },
    "papermill": {
     "duration": 0.73812,
     "end_time": "2023-01-23T08:18:50.824557",
     "exception": false,
     "start_time": "2023-01-23T08:18:50.086437",
     "status": "completed"
    },
    "tags": []
   },
   "outputs": [
    {
     "data": {
      "text/plain": [
       "<seaborn.axisgrid.FacetGrid at 0x7f22566fd450>"
      ]
     },
     "execution_count": 19,
     "metadata": {},
     "output_type": "execute_result"
    },
    {
     "data": {
      "image/png": "[encoded data removed]",
      "text/plain": [
       "<Figure size 437.975x360 with 1 Axes>"
      ]
     },
     "metadata": {},
     "output_type": "display_data"
    }
   ],
   "source": [
    "sns.relplot(data=titanic, x='Pclass', y='Survived', hue='Sex', kind='line'\n",
    "            , ci=False )\n",
    "#a plot shows the diversity in survived number of people according to their class in both males and females"
   ]
  },
  {
   "cell_type": "code",
   "execution_count": 20,
   "id": "976ddf88",
   "metadata": {
    "execution": {
     "iopub.execute_input": "2023-01-23T08:18:50.851618Z",
     "iopub.status.busy": "2023-01-23T08:18:50.850192Z",
     "iopub.status.idle": "2023-01-23T08:18:50.864299Z",
     "shell.execute_reply": "2023-01-23T08:18:50.863003Z"
    },
    "papermill": {
     "duration": 0.029833,
     "end_time": "2023-01-23T08:18:50.866718",
     "exception": false,
     "start_time": "2023-01-23T08:18:50.836885",
     "status": "completed"
    },
    "tags": []
   },
   "outputs": [
    {
     "data": {
      "text/html": [
       "<div>\n",
       "<style scoped>\n",
       "    .dataframe tbody tr th:only-of-type {\n",
       "        vertical-align: middle;\n",
       "    }\n",
       "\n",
       "    .dataframe tbody tr th {\n",
       "        vertical-align: top;\n",
       "    }\n",
       "\n",
       "    .dataframe thead th {\n",
       "        text-align: right;\n",
       "    }\n",
       "</style>\n",
       "<table border=\"1\" class=\"dataframe\">\n",
       "  <thead>\n",
       "    <tr style=\"text-align: right;\">\n",
       "      <th></th>\n",
       "      <th>Survived</th>\n",
       "      <th>SibSp</th>\n",
       "    </tr>\n",
       "  </thead>\n",
       "  <tbody>\n",
       "    <tr>\n",
       "      <th>0</th>\n",
       "      <td>0</td>\n",
       "      <td>198</td>\n",
       "    </tr>\n",
       "    <tr>\n",
       "      <th>1</th>\n",
       "      <td>1</td>\n",
       "      <td>103</td>\n",
       "    </tr>\n",
       "  </tbody>\n",
       "</table>\n",
       "</div>"
      ],
      "text/plain": [
       "   Survived  SibSp\n",
       "0         0    198\n",
       "1         1    103"
      ]
     },
     "execution_count": 20,
     "metadata": {},
     "output_type": "execute_result"
    }
   ],
   "source": [
    "titanic.groupby('Survived', as_index=False)['SibSp'].sum()"
   ]
  },
  {
   "cell_type": "code",
   "execution_count": 21,
   "id": "f7cfa5e0",
   "metadata": {
    "execution": {
     "iopub.execute_input": "2023-01-23T08:18:50.893714Z",
     "iopub.status.busy": "2023-01-23T08:18:50.893291Z",
     "iopub.status.idle": "2023-01-23T08:18:51.225563Z",
     "shell.execute_reply": "2023-01-23T08:18:51.224276Z"
    },
    "papermill": {
     "duration": 0.349344,
     "end_time": "2023-01-23T08:18:51.228191",
     "exception": false,
     "start_time": "2023-01-23T08:18:50.878847",
     "status": "completed"
    },
    "tags": []
   },
   "outputs": [
    {
     "data": {
      "image/png": "[encoded data removed]",
      "text/plain": [
       "<Figure size 504x504 with 1 Axes>"
      ]
     },
     "metadata": {},
     "output_type": "display_data"
    }
   ],
   "source": [
    "sns.set_palette(\"PRGn\")\n",
    "titanic.groupby('Survived', as_index=False)['SibSp'].plot.hist(histtype= 'bar',alpha = 0.8)\n",
    "sns.set(rc={'figure.figsize':(7,8.27)})\n",
    "plt.legend(('Died','Survived'),)\n",
    "plt.show()"
   ]
  },
  {
   "cell_type": "code",
   "execution_count": 22,
   "id": "fac68792",
   "metadata": {
    "execution": {
     "iopub.execute_input": "2023-01-23T08:18:51.255430Z",
     "iopub.status.busy": "2023-01-23T08:18:51.254232Z",
     "iopub.status.idle": "2023-01-23T08:18:51.837594Z",
     "shell.execute_reply": "2023-01-23T08:18:51.835918Z"
    },
    "papermill": {
     "duration": 0.599675,
     "end_time": "2023-01-23T08:18:51.840305",
     "exception": false,
     "start_time": "2023-01-23T08:18:51.240630",
     "status": "completed"
    },
    "tags": []
   },
   "outputs": [
    {
     "data": {
      "text/plain": [
       "Text(0.5, 1.0, 'how Families located in different calss could make it')"
      ]
     },
     "execution_count": 22,
     "metadata": {},
     "output_type": "execute_result"
    },
    {
     "data": {
      "image/png": "[encoded data removed]",
      "text/plain": [
       "<Figure size 421.55x360 with 1 Axes>"
      ]
     },
     "metadata": {},
     "output_type": "display_data"
    }
   ],
   "source": [
    "sns.set_palette(\"RdBu\")\n",
    "sns.relplot(x=\"Pclass\",             \n",
    "            y=\"Parch\",             \n",
    "            data=titanic,            \n",
    "            kind=\"line\",\n",
    "            hue= 'Survived',\n",
    "            ci=None\n",
    "            )\n",
    "plt.title('how Families located in different calss could make it')"
   ]
  },
  {
   "cell_type": "code",
   "execution_count": 23,
   "id": "0456ea04",
   "metadata": {
    "execution": {
     "iopub.execute_input": "2023-01-23T08:18:51.869624Z",
     "iopub.status.busy": "2023-01-23T08:18:51.869172Z",
     "iopub.status.idle": "2023-01-23T08:18:51.889928Z",
     "shell.execute_reply": "2023-01-23T08:18:51.888768Z"
    },
    "papermill": {
     "duration": 0.03891,
     "end_time": "2023-01-23T08:18:51.892185",
     "exception": false,
     "start_time": "2023-01-23T08:18:51.853275",
     "status": "completed"
    },
    "tags": []
   },
   "outputs": [
    {
     "data": {
      "text/html": [
       "<div>\n",
       "<style scoped>\n",
       "    .dataframe tbody tr th:only-of-type {\n",
       "        vertical-align: middle;\n",
       "    }\n",
       "\n",
       "    .dataframe tbody tr th {\n",
       "        vertical-align: top;\n",
       "    }\n",
       "\n",
       "    .dataframe thead th {\n",
       "        text-align: right;\n",
       "    }\n",
       "</style>\n",
       "<table border=\"1\" class=\"dataframe\">\n",
       "  <thead>\n",
       "    <tr style=\"text-align: right;\">\n",
       "      <th></th>\n",
       "      <th>Survived</th>\n",
       "      <th>Pclass</th>\n",
       "      <th>Sex</th>\n",
       "      <th>Age</th>\n",
       "      <th>SibSp</th>\n",
       "      <th>Parch</th>\n",
       "      <th>Fare</th>\n",
       "      <th>Embarked</th>\n",
       "    </tr>\n",
       "  </thead>\n",
       "  <tbody>\n",
       "    <tr>\n",
       "      <th>0</th>\n",
       "      <td>0</td>\n",
       "      <td>3</td>\n",
       "      <td>male</td>\n",
       "      <td>22</td>\n",
       "      <td>1</td>\n",
       "      <td>0</td>\n",
       "      <td>7</td>\n",
       "      <td>S</td>\n",
       "    </tr>\n",
       "    <tr>\n",
       "      <th>2</th>\n",
       "      <td>1</td>\n",
       "      <td>3</td>\n",
       "      <td>female</td>\n",
       "      <td>26</td>\n",
       "      <td>0</td>\n",
       "      <td>0</td>\n",
       "      <td>7</td>\n",
       "      <td>S</td>\n",
       "    </tr>\n",
       "    <tr>\n",
       "      <th>3</th>\n",
       "      <td>1</td>\n",
       "      <td>1</td>\n",
       "      <td>female</td>\n",
       "      <td>35</td>\n",
       "      <td>1</td>\n",
       "      <td>0</td>\n",
       "      <td>53</td>\n",
       "      <td>S</td>\n",
       "    </tr>\n",
       "    <tr>\n",
       "      <th>4</th>\n",
       "      <td>0</td>\n",
       "      <td>3</td>\n",
       "      <td>male</td>\n",
       "      <td>35</td>\n",
       "      <td>0</td>\n",
       "      <td>0</td>\n",
       "      <td>8</td>\n",
       "      <td>S</td>\n",
       "    </tr>\n",
       "    <tr>\n",
       "      <th>5</th>\n",
       "      <td>0</td>\n",
       "      <td>3</td>\n",
       "      <td>male</td>\n",
       "      <td>29</td>\n",
       "      <td>0</td>\n",
       "      <td>0</td>\n",
       "      <td>8</td>\n",
       "      <td>Q</td>\n",
       "    </tr>\n",
       "  </tbody>\n",
       "</table>\n",
       "</div>"
      ],
      "text/plain": [
       "   Survived  Pclass     Sex  Age  SibSp  Parch  Fare Embarked\n",
       "0         0       3    male   22      1      0     7        S\n",
       "2         1       3  female   26      0      0     7        S\n",
       "3         1       1  female   35      1      0    53        S\n",
       "4         0       3    male   35      0      0     8        S\n",
       "5         0       3    male   29      0      0     8        Q"
      ]
     },
     "execution_count": 23,
     "metadata": {},
     "output_type": "execute_result"
    }
   ],
   "source": [
    "titanic.drop(columns=['Name','Ticket','PassengerId'], axis=1, inplace=True)\n",
    "titanic.head()"
   ]
  },
  {
   "cell_type": "markdown",
   "id": "cfc640a5",
   "metadata": {
    "papermill": {
     "duration": 0.013151,
     "end_time": "2023-01-23T08:18:51.918722",
     "exception": false,
     "start_time": "2023-01-23T08:18:51.905571",
     "status": "completed"
    },
    "tags": []
   },
   "source": [
    "categorical to numerical conversion"
   ]
  },
  {
   "cell_type": "code",
   "execution_count": 24,
   "id": "660b52ce",
   "metadata": {
    "execution": {
     "iopub.execute_input": "2023-01-23T08:18:51.948371Z",
     "iopub.status.busy": "2023-01-23T08:18:51.947674Z",
     "iopub.status.idle": "2023-01-23T08:18:51.962270Z",
     "shell.execute_reply": "2023-01-23T08:18:51.961435Z"
    },
    "papermill": {
     "duration": 0.031586,
     "end_time": "2023-01-23T08:18:51.964785",
     "exception": false,
     "start_time": "2023-01-23T08:18:51.933199",
     "status": "completed"
    },
    "tags": []
   },
   "outputs": [
    {
     "data": {
      "text/html": [
       "<div>\n",
       "<style scoped>\n",
       "    .dataframe tbody tr th:only-of-type {\n",
       "        vertical-align: middle;\n",
       "    }\n",
       "\n",
       "    .dataframe tbody tr th {\n",
       "        vertical-align: top;\n",
       "    }\n",
       "\n",
       "    .dataframe thead th {\n",
       "        text-align: right;\n",
       "    }\n",
       "</style>\n",
       "<table border=\"1\" class=\"dataframe\">\n",
       "  <thead>\n",
       "    <tr style=\"text-align: right;\">\n",
       "      <th></th>\n",
       "      <th>Sex</th>\n",
       "      <th>Embarked</th>\n",
       "    </tr>\n",
       "  </thead>\n",
       "  <tbody>\n",
       "    <tr>\n",
       "      <th>count</th>\n",
       "      <td>723</td>\n",
       "      <td>723</td>\n",
       "    </tr>\n",
       "    <tr>\n",
       "      <th>unique</th>\n",
       "      <td>2</td>\n",
       "      <td>3</td>\n",
       "    </tr>\n",
       "    <tr>\n",
       "      <th>top</th>\n",
       "      <td>male</td>\n",
       "      <td>S</td>\n",
       "    </tr>\n",
       "    <tr>\n",
       "      <th>freq</th>\n",
       "      <td>491</td>\n",
       "      <td>547</td>\n",
       "    </tr>\n",
       "  </tbody>\n",
       "</table>\n",
       "</div>"
      ],
      "text/plain": [
       "         Sex Embarked\n",
       "count    723      723\n",
       "unique     2        3\n",
       "top     male        S\n",
       "freq     491      547"
      ]
     },
     "execution_count": 24,
     "metadata": {},
     "output_type": "execute_result"
    }
   ],
   "source": [
    "titanic.describe(include=['O'])"
   ]
  },
  {
   "cell_type": "code",
   "execution_count": 25,
   "id": "88efdac8",
   "metadata": {
    "execution": {
     "iopub.execute_input": "2023-01-23T08:18:51.993896Z",
     "iopub.status.busy": "2023-01-23T08:18:51.993232Z",
     "iopub.status.idle": "2023-01-23T08:18:52.000486Z",
     "shell.execute_reply": "2023-01-23T08:18:51.999176Z"
    },
    "papermill": {
     "duration": 0.025008,
     "end_time": "2023-01-23T08:18:52.003241",
     "exception": false,
     "start_time": "2023-01-23T08:18:51.978233",
     "status": "completed"
    },
    "tags": []
   },
   "outputs": [
    {
     "data": {
      "text/plain": [
       "array(['S', 'Q', 'C'], dtype=object)"
      ]
     },
     "execution_count": 25,
     "metadata": {},
     "output_type": "execute_result"
    }
   ],
   "source": [
    "titanic['Embarked'].unique()"
   ]
  },
  {
   "cell_type": "code",
   "execution_count": 26,
   "id": "530844ed",
   "metadata": {
    "execution": {
     "iopub.execute_input": "2023-01-23T08:18:52.032238Z",
     "iopub.status.busy": "2023-01-23T08:18:52.031452Z",
     "iopub.status.idle": "2023-01-23T08:18:52.047982Z",
     "shell.execute_reply": "2023-01-23T08:18:52.046526Z"
    },
    "papermill": {
     "duration": 0.033921,
     "end_time": "2023-01-23T08:18:52.050664",
     "exception": false,
     "start_time": "2023-01-23T08:18:52.016743",
     "status": "completed"
    },
    "tags": []
   },
   "outputs": [
    {
     "data": {
      "text/html": [
       "<div>\n",
       "<style scoped>\n",
       "    .dataframe tbody tr th:only-of-type {\n",
       "        vertical-align: middle;\n",
       "    }\n",
       "\n",
       "    .dataframe tbody tr th {\n",
       "        vertical-align: top;\n",
       "    }\n",
       "\n",
       "    .dataframe thead th {\n",
       "        text-align: right;\n",
       "    }\n",
       "</style>\n",
       "<table border=\"1\" class=\"dataframe\">\n",
       "  <thead>\n",
       "    <tr style=\"text-align: right;\">\n",
       "      <th></th>\n",
       "      <th>Survived</th>\n",
       "      <th>Pclass</th>\n",
       "      <th>Sex</th>\n",
       "      <th>Age</th>\n",
       "      <th>SibSp</th>\n",
       "      <th>Parch</th>\n",
       "      <th>Fare</th>\n",
       "      <th>Embarked</th>\n",
       "    </tr>\n",
       "  </thead>\n",
       "  <tbody>\n",
       "    <tr>\n",
       "      <th>0</th>\n",
       "      <td>0</td>\n",
       "      <td>3</td>\n",
       "      <td>0</td>\n",
       "      <td>22</td>\n",
       "      <td>1</td>\n",
       "      <td>0</td>\n",
       "      <td>7</td>\n",
       "      <td>0</td>\n",
       "    </tr>\n",
       "    <tr>\n",
       "      <th>2</th>\n",
       "      <td>1</td>\n",
       "      <td>3</td>\n",
       "      <td>1</td>\n",
       "      <td>26</td>\n",
       "      <td>0</td>\n",
       "      <td>0</td>\n",
       "      <td>7</td>\n",
       "      <td>0</td>\n",
       "    </tr>\n",
       "    <tr>\n",
       "      <th>3</th>\n",
       "      <td>1</td>\n",
       "      <td>1</td>\n",
       "      <td>1</td>\n",
       "      <td>35</td>\n",
       "      <td>1</td>\n",
       "      <td>0</td>\n",
       "      <td>53</td>\n",
       "      <td>0</td>\n",
       "    </tr>\n",
       "    <tr>\n",
       "      <th>4</th>\n",
       "      <td>0</td>\n",
       "      <td>3</td>\n",
       "      <td>0</td>\n",
       "      <td>35</td>\n",
       "      <td>0</td>\n",
       "      <td>0</td>\n",
       "      <td>8</td>\n",
       "      <td>0</td>\n",
       "    </tr>\n",
       "    <tr>\n",
       "      <th>5</th>\n",
       "      <td>0</td>\n",
       "      <td>3</td>\n",
       "      <td>0</td>\n",
       "      <td>29</td>\n",
       "      <td>0</td>\n",
       "      <td>0</td>\n",
       "      <td>8</td>\n",
       "      <td>1</td>\n",
       "    </tr>\n",
       "  </tbody>\n",
       "</table>\n",
       "</div>"
      ],
      "text/plain": [
       "   Survived  Pclass  Sex  Age  SibSp  Parch  Fare  Embarked\n",
       "0         0       3    0   22      1      0     7         0\n",
       "2         1       3    1   26      0      0     7         0\n",
       "3         1       1    1   35      1      0    53         0\n",
       "4         0       3    0   35      0      0     8         0\n",
       "5         0       3    0   29      0      0     8         1"
      ]
     },
     "execution_count": 26,
     "metadata": {},
     "output_type": "execute_result"
    }
   ],
   "source": [
    "titanic.replace({'Sex':{'male':0,'female':1},'Embarked':{'S':0,'Q':1,'C':2}}, inplace=True)\n",
    "titanic.head()"
   ]
  },
  {
   "cell_type": "code",
   "execution_count": 27,
   "id": "323c034c",
   "metadata": {
    "execution": {
     "iopub.execute_input": "2023-01-23T08:18:52.079825Z",
     "iopub.status.busy": "2023-01-23T08:18:52.079392Z",
     "iopub.status.idle": "2023-01-23T08:18:52.086044Z",
     "shell.execute_reply": "2023-01-23T08:18:52.085284Z"
    },
    "papermill": {
     "duration": 0.023548,
     "end_time": "2023-01-23T08:18:52.088148",
     "exception": false,
     "start_time": "2023-01-23T08:18:52.064600",
     "status": "completed"
    },
    "tags": []
   },
   "outputs": [],
   "source": [
    "X = titanic.drop(columns=['Survived'], axis=1)\n",
    "Y = titanic['Survived']"
   ]
  },
  {
   "cell_type": "markdown",
   "id": "624b47c6",
   "metadata": {
    "papermill": {
     "duration": 0.012844,
     "end_time": "2023-01-23T08:18:52.114249",
     "exception": false,
     "start_time": "2023-01-23T08:18:52.101405",
     "status": "completed"
    },
    "tags": []
   },
   "source": [
    "# ML Model "
   ]
  },
  {
   "cell_type": "code",
   "execution_count": 28,
   "id": "96f26b17",
   "metadata": {
    "execution": {
     "iopub.execute_input": "2023-01-23T08:18:52.142684Z",
     "iopub.status.busy": "2023-01-23T08:18:52.142002Z",
     "iopub.status.idle": "2023-01-23T08:18:52.148034Z",
     "shell.execute_reply": "2023-01-23T08:18:52.147238Z"
    },
    "papermill": {
     "duration": 0.023,
     "end_time": "2023-01-23T08:18:52.150384",
     "exception": false,
     "start_time": "2023-01-23T08:18:52.127384",
     "status": "completed"
    },
    "tags": []
   },
   "outputs": [],
   "source": [
    "Xtrain, Xtest, Ytrain, Ytest = train_test_split(X,Y, test_size=0.2, random_state=2)"
   ]
  },
  {
   "cell_type": "code",
   "execution_count": 29,
   "id": "8b5eeab9",
   "metadata": {
    "execution": {
     "iopub.execute_input": "2023-01-23T08:18:52.178817Z",
     "iopub.status.busy": "2023-01-23T08:18:52.178375Z",
     "iopub.status.idle": "2023-01-23T08:18:52.184975Z",
     "shell.execute_reply": "2023-01-23T08:18:52.184004Z"
    },
    "papermill": {
     "duration": 0.024042,
     "end_time": "2023-01-23T08:18:52.187770",
     "exception": false,
     "start_time": "2023-01-23T08:18:52.163728",
     "status": "completed"
    },
    "tags": []
   },
   "outputs": [
    {
     "name": "stdout",
     "output_type": "stream",
     "text": [
      "79.94\n",
      "(578, 7) (145, 7)\n"
     ]
    }
   ],
   "source": [
    "print(round((Xtrain.shape[0]/len(X.index))*100 ,2))\n",
    "print(Xtrain.shape, Xtest.shape)"
   ]
  },
  {
   "cell_type": "code",
   "execution_count": 30,
   "id": "1bd70b0e",
   "metadata": {
    "execution": {
     "iopub.execute_input": "2023-01-23T08:18:52.217540Z",
     "iopub.status.busy": "2023-01-23T08:18:52.216713Z",
     "iopub.status.idle": "2023-01-23T08:18:52.261463Z",
     "shell.execute_reply": "2023-01-23T08:18:52.260143Z"
    },
    "papermill": {
     "duration": 0.063094,
     "end_time": "2023-01-23T08:18:52.264726",
     "exception": false,
     "start_time": "2023-01-23T08:18:52.201632",
     "status": "completed"
    },
    "tags": []
   },
   "outputs": [
    {
     "name": "stdout",
     "output_type": "stream",
     "text": [
      "train accuracy: 0.79\n",
      "test accuracy: 0.81\n"
     ]
    }
   ],
   "source": [
    "model = LogisticRegression()\n",
    "model.fit(Xtrain, Ytrain)\n",
    "Ytrain_pred = model.predict(Xtrain)\n",
    "training_accuracy = accuracy_score(Ytrain_pred, Ytrain)\n",
    "print(\"train accuracy:\",round(training_accuracy, 2))\n",
    "Ytest_pred = model.predict(Xtest)\n",
    "test_accuracy = accuracy_score(Ytest_pred, Ytest)\n",
    "print(\"test accuracy:\",round(test_accuracy, 2))"
   ]
  },
  {
   "cell_type": "markdown",
   "id": "ba8d9f67",
   "metadata": {
    "papermill": {
     "duration": 0.01328,
     "end_time": "2023-01-23T08:18:52.292298",
     "exception": false,
     "start_time": "2023-01-23T08:18:52.279018",
     "status": "completed"
    },
    "tags": []
   },
   "source": [
    "# prediction"
   ]
  },
  {
   "cell_type": "code",
   "execution_count": 31,
   "id": "a2a73e3d",
   "metadata": {
    "execution": {
     "iopub.execute_input": "2023-01-23T08:18:52.321581Z",
     "iopub.status.busy": "2023-01-23T08:18:52.320380Z",
     "iopub.status.idle": "2023-01-23T08:18:52.332334Z",
     "shell.execute_reply": "2023-01-23T08:18:52.330970Z"
    },
    "papermill": {
     "duration": 0.030045,
     "end_time": "2023-01-23T08:18:52.335782",
     "exception": false,
     "start_time": "2023-01-23T08:18:52.305737",
     "status": "completed"
    },
    "tags": []
   },
   "outputs": [
    {
     "name": "stdout",
     "output_type": "stream",
     "text": [
      "[1]\n",
      "[0]\n"
     ]
    },
    {
     "name": "stderr",
     "output_type": "stream",
     "text": [
      "/opt/conda/lib/python3.7/site-packages/sklearn/base.py:451: UserWarning: X does not have valid feature names, but LogisticRegression was fitted with feature names\n",
      "  \"X does not have valid feature names, but\"\n",
      "/opt/conda/lib/python3.7/site-packages/sklearn/base.py:451: UserWarning: X does not have valid feature names, but LogisticRegression was fitted with feature names\n",
      "  \"X does not have valid feature names, but\"\n"
     ]
    }
   ],
   "source": [
    "print(model.predict([[3, 1, 26, 0, 0, 7 ,0]]))\n",
    "print(model.predict([[3, 0, 35, 0, 0, 8, 0]]))"
   ]
  }
 ],
 "metadata": {
  "kernelspec": {
   "display_name": "Python 3",
   "language": "python",
   "name": "python3"
  },
  "language_info": {
   "codemirror_mode": {
    "name": "ipython",
    "version": 3
   },
   "file_extension": ".py",
   "mimetype": "text/x-python",
   "name": "python",
   "nbconvert_exporter": "python",
   "pygments_lexer": "ipython3",
   "version": "3.7.12"
  },
  "papermill": {
   "default_parameters": {},
   "duration": 16.381216,
   "end_time": "2023-01-23T08:18:53.175567",
   "environment_variables": {},
   "exception": null,
   "input_path": "__notebook__.ipynb",
   "output_path": "__notebook__.ipynb",
   "parameters": {},
   "start_time": "2023-01-23T08:18:36.794351",
   "version": "2.3.4"
  }
 },
 "nbformat": 4,
 "nbformat_minor": 5
}
